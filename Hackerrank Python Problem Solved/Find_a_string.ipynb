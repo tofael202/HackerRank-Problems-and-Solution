{
  "nbformat": 4,
  "nbformat_minor": 0,
  "metadata": {
    "colab": {
      "name": "Find a string.ipynb",
      "provenance": [],
      "collapsed_sections": [],
      "authorship_tag": "ABX9TyOAf24qXds6ZSYDmmHq2Ejp",
      "include_colab_link": true
    },
    "kernelspec": {
      "name": "python3",
      "display_name": "Python 3"
    },
    "language_info": {
      "name": "python"
    }
  },
  "cells": [
    {
      "cell_type": "markdown",
      "metadata": {
        "id": "view-in-github",
        "colab_type": "text"
      },
      "source": [
        "<a href=\"https://colab.research.google.com/github/tofael202/Hackerrank_Python_Problem_Solved/blob/main/Find_a_string.ipynb\" target=\"_parent\"><img src=\"https://colab.research.google.com/assets/colab-badge.svg\" alt=\"Open In Colab\"/></a>"
      ]
    },
    {
      "cell_type": "markdown",
      "metadata": {
        "id": "GBhDwD9nNaha"
      },
      "source": [
        ""
      ]
    },
    {
      "cell_type": "markdown",
      "metadata": {
        "id": "LC3xoF5sNZA8"
      },
      "source": [
        "https://www.hackerrank.com/challenges/find-a-string/problem"
      ]
    },
    {
      "cell_type": "code",
      "metadata": {
        "colab": {
          "base_uri": "https://localhost:8080/"
        },
        "id": "G1cF-WRtNN1n",
        "outputId": "4405dac9-2c00-4b28-9fb4-8211af0d28c3"
      },
      "source": [
        "def count_substring(string, sub_string):\n",
        "    c=0\n",
        "    x=len(sub_string)\n",
        "    n=len(string)\n",
        "    t=(n-x)+1\n",
        "    \n",
        "    r=0\n",
        "    for i in range(t):\n",
        "        if(string[i]==sub_string[0]):\n",
        "            p=i\n",
        "            count=0\n",
        "            for j in range(len(sub_string)):\n",
        "                \n",
        "                if(sub_string[j]==string[p]):\n",
        "                    count=count+1\n",
        "                    p=p+1  \n",
        "                            \n",
        "            if(count==len(sub_string)):\n",
        "                r=r+1    \n",
        "           \n",
        "        \n",
        "                \n",
        "                \n",
        "    return r\n",
        "\n",
        "if __name__ == '__main__':\n",
        "    string = input().strip()\n",
        "    sub_string = input().strip()\n",
        "    \n",
        "    count = count_substring(string, sub_string)\n",
        "    print(count)"
      ],
      "execution_count": 1,
      "outputs": [
        {
          "output_type": "stream",
          "name": "stdout",
          "text": [
            "abcdedbc\n",
            "bc\n",
            "2\n"
          ]
        }
      ]
    }
  ]
}