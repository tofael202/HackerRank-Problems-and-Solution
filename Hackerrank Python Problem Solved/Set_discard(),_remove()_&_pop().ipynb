{
  "nbformat": 4,
  "nbformat_minor": 0,
  "metadata": {
    "colab": {
      "name": "Set .discard(), .remove() & .pop().ipynb",
      "provenance": [],
      "authorship_tag": "ABX9TyP5iFeExKaJdXDGCr2ZI378",
      "include_colab_link": true
    },
    "kernelspec": {
      "name": "python3",
      "display_name": "Python 3"
    },
    "language_info": {
      "name": "python"
    }
  },
  "cells": [
    {
      "cell_type": "markdown",
      "metadata": {
        "id": "view-in-github",
        "colab_type": "text"
      },
      "source": [
        "<a href=\"https://colab.research.google.com/github/tofael202/Hackerrank_Python_Problem_Solved/blob/main/Set_discard()%2C_remove()_%26_pop().ipynb\" target=\"_parent\"><img src=\"https://colab.research.google.com/assets/colab-badge.svg\" alt=\"Open In Colab\"/></a>"
      ]
    },
    {
      "cell_type": "markdown",
      "metadata": {
        "id": "ZI8pspUC62zh"
      },
      "source": [
        "https://www.hackerrank.com/challenges/py-set-discard-remove-pop/problem"
      ]
    },
    {
      "cell_type": "code",
      "metadata": {
        "colab": {
          "base_uri": "https://localhost:8080/"
        },
        "id": "T4Rpn9x66zOQ",
        "outputId": "d4c8d9b1-c5a3-43b4-a762-5cc1cce6ac6a"
      },
      "source": [
        "n = int(input())\n",
        "s = set(map(int, input().split()))\n",
        "t=int(input())\n",
        "for i in range(t):\n",
        "    a=list(input().split())\n",
        "    if(a[0]=='pop'):\n",
        "        s.pop()\n",
        "    elif(a[0]=='remove'):\n",
        "        q=int(a[1])\n",
        "        s.remove(q) \n",
        "    elif(a[0]=='discard'):\n",
        "        q=int(a[1])\n",
        "        s.discard(q)\n",
        "print(sum(s))               "
      ],
      "execution_count": 1,
      "outputs": [
        {
          "output_type": "stream",
          "name": "stdout",
          "text": [
            "4\n",
            "1 2 4 5\n",
            "2\n",
            "pop\n",
            "remove 2\n",
            "9\n"
          ]
        }
      ]
    }
  ]
}