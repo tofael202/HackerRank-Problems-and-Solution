{
  "nbformat": 4,
  "nbformat_minor": 0,
  "metadata": {
    "colab": {
      "name": "Finding the percentage.ipynb",
      "provenance": [],
      "authorship_tag": "ABX9TyPOIbztahu5JjT+qPEhTq5i",
      "include_colab_link": true
    },
    "kernelspec": {
      "name": "python3",
      "display_name": "Python 3"
    },
    "language_info": {
      "name": "python"
    }
  },
  "cells": [
    {
      "cell_type": "markdown",
      "metadata": {
        "id": "view-in-github",
        "colab_type": "text"
      },
      "source": [
        "<a href=\"https://colab.research.google.com/github/tofael202/Hackerrank_Python_Problem_Solved/blob/main/Finding_the_percentage.ipynb\" target=\"_parent\"><img src=\"https://colab.research.google.com/assets/colab-badge.svg\" alt=\"Open In Colab\"/></a>"
      ]
    },
    {
      "cell_type": "code",
      "metadata": {
        "id": "2i6vFfOaxhY2"
      },
      "source": [
        "#https://www.hackerrank.com/challenges/finding-the-percentage/problem"
      ],
      "execution_count": null,
      "outputs": []
    },
    {
      "cell_type": "code",
      "metadata": {
        "id": "3iebme0tqXgM"
      },
      "source": [
        "if __name__ == '__main__':\n",
        "    n = int(input())\n",
        "    student_marks = {}\n",
        "    for _ in range(n):\n",
        "        name, *line = input().split()\n",
        "        scores = list(map(float, line))\n",
        "        student_marks[name] = scores\n",
        "    query_name = input()\n",
        "    y=student_marks.get(query_name)\n",
        "    \n",
        "    sumy=sum(y)\n",
        "    \n",
        "    avg=sumy/len(y)\n",
        "    b='%.2f' % avg  # used for getting two decimal point\n",
        "    print(b)"
      ],
      "execution_count": null,
      "outputs": []
    }
  ]
}