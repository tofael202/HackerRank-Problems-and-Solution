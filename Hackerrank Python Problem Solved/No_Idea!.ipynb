{
  "nbformat": 4,
  "nbformat_minor": 0,
  "metadata": {
    "colab": {
      "name": "No Idea!.ipynb",
      "provenance": [],
      "authorship_tag": "ABX9TyNflfLr/RhWj7/fwd1yIui5",
      "include_colab_link": true
    },
    "kernelspec": {
      "name": "python3",
      "display_name": "Python 3"
    },
    "language_info": {
      "name": "python"
    }
  },
  "cells": [
    {
      "cell_type": "markdown",
      "metadata": {
        "id": "view-in-github",
        "colab_type": "text"
      },
      "source": [
        "<a href=\"https://colab.research.google.com/github/tofael202/Hackerrank_Python_Problem_Solved/blob/main/No_Idea!.ipynb\" target=\"_parent\"><img src=\"https://colab.research.google.com/assets/colab-badge.svg\" alt=\"Open In Colab\"/></a>"
      ]
    },
    {
      "cell_type": "markdown",
      "metadata": {
        "id": "QKpM09a0zgD9"
      },
      "source": [
        "https://www.hackerrank.com/challenges/no-idea/problem"
      ]
    },
    {
      "cell_type": "code",
      "metadata": {
        "colab": {
          "base_uri": "https://localhost:8080/"
        },
        "id": "2bVZ9puzzZx9",
        "outputId": "0c5abbf7-9b95-4d4f-aed4-a8b672ef0909"
      },
      "source": [
        "a=input().split(' ')\n",
        "l=list(map(int,input().split()))\n",
        "firstset=set(list(map(int,input().split())))\n",
        "secondset=set(list(map(int,input().split())))\n",
        "\n",
        "p=0\n",
        "for i in l:\n",
        "    if i in firstset:\n",
        "        p+=1\n",
        "    if i in secondset:\n",
        "        p-=1\n",
        "print(p)      \n",
        "       "
      ],
      "execution_count": 1,
      "outputs": [
        {
          "output_type": "stream",
          "name": "stdout",
          "text": [
            "2 4\n",
            "1 5 3\n",
            "1 5\n",
            "3 7\n",
            "1\n"
          ]
        }
      ]
    }
  ]
}