{
  "nbformat": 4,
  "nbformat_minor": 0,
  "metadata": {
    "colab": {
      "name": "Leap_Year.ipynb",
      "provenance": [],
      "authorship_tag": "ABX9TyPAcpG9FlLA7pXl9T8oksG1",
      "include_colab_link": true
    },
    "kernelspec": {
      "name": "python3",
      "display_name": "Python 3"
    },
    "language_info": {
      "name": "python"
    }
  },
  "cells": [
    {
      "cell_type": "markdown",
      "metadata": {
        "id": "view-in-github",
        "colab_type": "text"
      },
      "source": [
        "<a href=\"https://colab.research.google.com/github/tofael202/Hackerrank_Python_Problem_Solved/blob/main/Leap_Year.ipynb\" target=\"_parent\"><img src=\"https://colab.research.google.com/assets/colab-badge.svg\" alt=\"Open In Colab\"/></a>"
      ]
    },
    {
      "cell_type": "code",
      "metadata": {
        "id": "6MJsoo_OpYKD"
      },
      "source": [
        "# https://www.hackerrank.com/challenges/write-a-function/problem\n",
        "#leap year problem"
      ],
      "execution_count": null,
      "outputs": []
    },
    {
      "cell_type": "code",
      "metadata": {
        "colab": {
          "base_uri": "https://localhost:8080/"
        },
        "id": "muBaqtxzpZRI",
        "outputId": "55be8814-32a4-4301-b4ca-021f8e52b6a7"
      },
      "source": [
        "def is_leap(year):\n",
        "    leap = False\n",
        "    if(year%4==0):\n",
        "        leap=True\n",
        "        if(year%100==0):\n",
        "            leap=False\n",
        "            if(year%400==0):\n",
        "                leap=True\n",
        "    \n",
        "    # Write your logic here\n",
        "    \n",
        "    return leap\n",
        "\n",
        "year = int(input())\n",
        "print (is_leap(year))"
      ],
      "execution_count": 3,
      "outputs": [
        {
          "output_type": "stream",
          "text": [
            "1992\n",
            "True\n"
          ],
          "name": "stdout"
        }
      ]
    }
  ]
}