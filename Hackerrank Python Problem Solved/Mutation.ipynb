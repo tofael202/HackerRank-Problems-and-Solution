{
  "nbformat": 4,
  "nbformat_minor": 0,
  "metadata": {
    "colab": {
      "name": "Mutation.ipynb",
      "provenance": [],
      "authorship_tag": "ABX9TyM9JTTkrQH2tCNA+7z3YVX9",
      "include_colab_link": true
    },
    "kernelspec": {
      "name": "python3",
      "display_name": "Python 3"
    },
    "language_info": {
      "name": "python"
    }
  },
  "cells": [
    {
      "cell_type": "markdown",
      "metadata": {
        "id": "view-in-github",
        "colab_type": "text"
      },
      "source": [
        "<a href=\"https://colab.research.google.com/github/tofael202/Hackerrank_Python_Problem_Solved/blob/main/Mutation.ipynb\" target=\"_parent\"><img src=\"https://colab.research.google.com/assets/colab-badge.svg\" alt=\"Open In Colab\"/></a>"
      ]
    },
    {
      "cell_type": "markdown",
      "metadata": {
        "id": "gXc9S-mW7cHd"
      },
      "source": [
        "https://www.hackerrank.com/challenges/python-mutations/problem\n",
        "\n",
        "STDIN           Function\n",
        "-----           --------\n",
        "abracadabra     s = 'abracadabra'\n",
        "5 k             position = 5, character = 'k'\n",
        "Sample Output\n",
        "\n",
        "abrackdabra"
      ]
    },
    {
      "cell_type": "code",
      "metadata": {
        "colab": {
          "base_uri": "https://localhost:8080/"
        },
        "id": "-MyPAPcq6xkR",
        "outputId": "4faca598-0091-492f-f401-12ddf926531b"
      },
      "source": [
        "def mutate_string(string, position, character):\n",
        "    p=''\n",
        "    l=position+1\n",
        "    p=string[:position]+character+string[l:]\n",
        "    return p\n",
        "\n",
        "if __name__ == '__main__':\n",
        "    s = input()\n",
        "    i, c = input().split()\n",
        "    s_new = mutate_string(s, int(i), c)\n",
        "    print(s_new)"
      ],
      "execution_count": 2,
      "outputs": [
        {
          "output_type": "stream",
          "name": "stdout",
          "text": [
            "abcdefg\n",
            "3 W\n",
            "abcWefg\n"
          ]
        }
      ]
    }
  ]
}