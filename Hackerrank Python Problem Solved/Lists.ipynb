{
  "nbformat": 4,
  "nbformat_minor": 0,
  "metadata": {
    "colab": {
      "name": "Lists.ipynb",
      "provenance": [],
      "authorship_tag": "ABX9TyM+1gokPyfQuWPItiZyQrR5",
      "include_colab_link": true
    },
    "kernelspec": {
      "name": "python3",
      "display_name": "Python 3"
    },
    "language_info": {
      "name": "python"
    }
  },
  "cells": [
    {
      "cell_type": "markdown",
      "metadata": {
        "id": "view-in-github",
        "colab_type": "text"
      },
      "source": [
        "<a href=\"https://colab.research.google.com/github/tofael202/Hackerrank_Python_Problem_Solved/blob/main/Lists.ipynb\" target=\"_parent\"><img src=\"https://colab.research.google.com/assets/colab-badge.svg\" alt=\"Open In Colab\"/></a>"
      ]
    },
    {
      "cell_type": "code",
      "metadata": {
        "id": "Iv-p3Lg1gFSc"
      },
      "source": [
        "#https://www.hackerrank.com/challenges/python-lists/problem\n",
        "\n",
        "Consider a list (list = []). You can perform the following commands:\n",
        "\n",
        "insert i e: Insert integer  at position .\n",
        "print: Print the list.\n",
        "remove e: Delete the first occurrence of integer .\n",
        "append e: Insert integer  at the end of the list.\n",
        "sort: Sort the list.\n",
        "pop: Pop the last element from the list.\n",
        "reverse: Reverse the list.\n",
        "Initialize your list and read in the value of  followed by \n",
        "lines of commands where each command will be of the  types listed above. \n",
        "Iterate through each command in order and perform the corresponding operation on your list."
      ],
      "execution_count": null,
      "outputs": []
    },
    {
      "cell_type": "code",
      "metadata": {
        "id": "njrjQyP2GDz3"
      },
      "source": [
        "import sys\n",
        "import re\n",
        "if __name__ == '__main__':\n",
        "    \n",
        "    N = int(input())\n",
        "    L=[]\n",
        "    P=[]\n",
        "    b=[]\n",
        "    for i in range(N):\n",
        "        l= sys.stdin.readline().rstrip()# for taking input from the console\n",
        "        L.append(l)\n",
        "    #print(L)\n",
        "     \n",
        "    for i in range(len(L)):\n",
        "        #regex=re'trutruncated'\n",
        "        a=L[i]\n",
        "        b=a.split() #spilt b according to space\n",
        "        #print(b[2])\n",
        "        if b[0]=='insert':\n",
        "            k=int(b[1])\n",
        "            j=int(b[2])\n",
        "            #print(k)\n",
        "            P.insert(k,j)\n",
        "        if b[0]=='print': \n",
        "            print(P)\n",
        "        if b[0]=='append': \n",
        "            k=int(b[1])\n",
        "            P.append(k)  \n",
        "        if b[0]=='remove': \n",
        "            P.remove(P[0])\n",
        "        if b[0]=='sort':\n",
        "            P=sorted(P)\n",
        "        if b[0]=='pop':\n",
        "            x=P.pop()\n",
        "        if b[0]=='reverse':\n",
        "            P.reverse()                   \n",
        "    #print(P)           \n",
        "        "
      ],
      "execution_count": null,
      "outputs": []
    },
    {
      "cell_type": "code",
      "metadata": {
        "id": "DJcRfGhPgEMf"
      },
      "source": [
        ""
      ],
      "execution_count": null,
      "outputs": []
    }
  ]
}