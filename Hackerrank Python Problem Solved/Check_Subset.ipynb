{
  "nbformat": 4,
  "nbformat_minor": 0,
  "metadata": {
    "colab": {
      "name": "Check Subset.ipynb",
      "provenance": [],
      "authorship_tag": "ABX9TyOxWHUYgKVXDYCIWb0lumgl",
      "include_colab_link": true
    },
    "kernelspec": {
      "name": "python3",
      "display_name": "Python 3"
    },
    "language_info": {
      "name": "python"
    }
  },
  "cells": [
    {
      "cell_type": "markdown",
      "metadata": {
        "id": "view-in-github",
        "colab_type": "text"
      },
      "source": [
        "<a href=\"https://colab.research.google.com/github/tofael202/Hackerrank_Python_Problem_Solved/blob/main/Check_Subset.ipynb\" target=\"_parent\"><img src=\"https://colab.research.google.com/assets/colab-badge.svg\" alt=\"Open In Colab\"/></a>"
      ]
    },
    {
      "cell_type": "markdown",
      "metadata": {
        "id": "G4PF089SXYSi"
      },
      "source": [
        "https://www.hackerrank.com/challenges/py-check-subset/problem\n"
      ]
    },
    {
      "cell_type": "code",
      "metadata": {
        "colab": {
          "base_uri": "https://localhost:8080/"
        },
        "id": "2khdqrmbXQoz",
        "outputId": "62031d8f-2e67-403a-caf6-498796e5c183"
      },
      "source": [
        "# Enter your code here. Read input from STDIN. Print output to STDOUT\n",
        "import sys\n",
        "t=int(input())\n",
        "for i in range(t):\n",
        "    _=input()\n",
        "    a=set(input().split())\n",
        "    _=input()\n",
        "    b=set(input().split())\n",
        "    p=a.difference(b)\n",
        "    if(len(p)==0):\n",
        "        print(True)\n",
        "    else:\n",
        "        print(False)    \n",
        "    \n",
        "   1"
      ],
      "execution_count": 1,
      "outputs": [
        {
          "output_type": "stream",
          "name": "stdout",
          "text": [
            "3\n",
            "3\n",
            "1 2 3\n",
            "2\n",
            "1 5\n",
            "False\n",
            "2\n",
            "4 5\n",
            "4\n",
            "1 2 4 5\n",
            "True\n",
            "1\n",
            "1\n",
            "2\n",
            "2 3\n",
            "False\n"
          ]
        }
      ]
    }
  ]
}