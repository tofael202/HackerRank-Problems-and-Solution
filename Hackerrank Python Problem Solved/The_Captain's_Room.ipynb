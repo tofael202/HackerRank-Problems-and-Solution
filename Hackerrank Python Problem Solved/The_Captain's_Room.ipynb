{
  "nbformat": 4,
  "nbformat_minor": 0,
  "metadata": {
    "colab": {
      "name": "The Captain's Room.ipynb",
      "provenance": [],
      "authorship_tag": "ABX9TyNxi45HlVl72z71EOv9cLe/",
      "include_colab_link": true
    },
    "kernelspec": {
      "name": "python3",
      "display_name": "Python 3"
    },
    "language_info": {
      "name": "python"
    }
  },
  "cells": [
    {
      "cell_type": "markdown",
      "metadata": {
        "id": "view-in-github",
        "colab_type": "text"
      },
      "source": [
        "<a href=\"https://colab.research.google.com/github/tofael202/Hackerrank_Python_Problem_Solved/blob/main/The_Captain's_Room.ipynb\" target=\"_parent\"><img src=\"https://colab.research.google.com/assets/colab-badge.svg\" alt=\"Open In Colab\"/></a>"
      ]
    },
    {
      "cell_type": "markdown",
      "metadata": {
        "id": "LpwdvDLmROaA"
      },
      "source": [
        "https://www.hackerrank.com/challenges/py-the-captains-room/problem\n"
      ]
    },
    {
      "cell_type": "code",
      "metadata": {
        "id": "s9kLmDZTRNSx"
      },
      "source": [
        "# Enter your code here. Read input from STDIN. Print output to STDOUT\n",
        "n = int(input())\n",
        "e = list(map(int, input().split()))\n",
        "s=set()\n",
        "p=set()\n",
        "for i in e:\n",
        "    if i in s:\n",
        "        p.add(i)\n",
        "    else:\n",
        "         s.add(i)       \n",
        "r=list(s.difference(p))\n",
        "print(r[0])\n"
      ],
      "execution_count": null,
      "outputs": []
    }
  ]
}