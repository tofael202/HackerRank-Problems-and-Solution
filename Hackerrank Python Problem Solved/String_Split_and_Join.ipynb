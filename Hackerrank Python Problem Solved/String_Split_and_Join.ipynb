{
  "nbformat": 4,
  "nbformat_minor": 0,
  "metadata": {
    "colab": {
      "name": "String Split and Join.ipynb",
      "provenance": [],
      "authorship_tag": "ABX9TyP+BB2ukRSstsLCmlK232tf",
      "include_colab_link": true
    },
    "kernelspec": {
      "name": "python3",
      "display_name": "Python 3"
    },
    "language_info": {
      "name": "python"
    }
  },
  "cells": [
    {
      "cell_type": "markdown",
      "metadata": {
        "id": "view-in-github",
        "colab_type": "text"
      },
      "source": [
        "<a href=\"https://colab.research.google.com/github/tofael202/Hackerrank_Python_Problem_Solved/blob/main/String_Split_and_Join.ipynb\" target=\"_parent\"><img src=\"https://colab.research.google.com/assets/colab-badge.svg\" alt=\"Open In Colab\"/></a>"
      ]
    },
    {
      "cell_type": "code",
      "metadata": {
        "id": "A91sJB9S9w9b"
      },
      "source": [
        "#https://www.hackerrank.com/challenges/python-string-split-and-join/problem"
      ],
      "execution_count": null,
      "outputs": []
    },
    {
      "cell_type": "code",
      "metadata": {
        "colab": {
          "base_uri": "https://localhost:8080/"
        },
        "id": "UNGkpotf9gZ6",
        "outputId": "aeb46c6f-b443-4ecf-98e9-8a9edf0e8774"
      },
      "source": [
        "def split_and_join(line):\n",
        "    # write your code here\n",
        "    line=line.split(\" \")  #split by space between the \" \"\n",
        "    #print(line)\n",
        "    line=\"-\".join(line)\n",
        "    return line\n",
        "\n",
        "if __name__ == '__main__':\n",
        "    line = input()\n",
        "    result = split_and_join(line)\n",
        "    print(result)"
      ],
      "execution_count": 1,
      "outputs": [
        {
          "output_type": "stream",
          "text": [
            "Hey friend how are you?\n",
            "Hey-friend-how-are-you?\n"
          ],
          "name": "stdout"
        }
      ]
    },
    {
      "cell_type": "code",
      "metadata": {
        "id": "hYt4ONAm8Zbm"
      },
      "source": [
        "#do not run this cell\n",
        "In Python, a string can be split on a delimiter.\n",
        "\n",
        "Example:\n",
        "\n",
        ">>> a = \"this is a string\"\n",
        ">>> a = a.split(\" \") # a is converted to a list of strings. \n",
        ">>> print a\n",
        "['this', 'is', 'a', 'string']\n",
        "Joining a string is simple:\n",
        "\n",
        ">>> a = \"-\".join(a)\n",
        ">>> print a\n",
        "this-is-a-string \n",
        "Task\n",
        "You are given a string. Split the string on a \" \" (space) delimiter and join using a - hyphen.\n",
        "\n",
        "Function Description\n",
        "\n",
        "Complete the split_and_join function in the editor below.\n",
        "\n",
        "split_and_join has the following parameters:\n",
        "\n",
        "string line: a string of space-separated words\n",
        "Returns\n",
        "\n",
        "string: the resulting string\n",
        "Input Format\n",
        "The one line contains a string consisting of space separated words.\n",
        "\n",
        "Sample Input\n",
        "\n",
        "this is a string   \n",
        "Sample Output\n",
        "\n",
        "this-is-a-string"
      ],
      "execution_count": null,
      "outputs": []
    }
  ]
}