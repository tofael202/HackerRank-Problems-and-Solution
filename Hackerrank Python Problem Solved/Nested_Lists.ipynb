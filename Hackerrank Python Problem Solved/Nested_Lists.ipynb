{
  "nbformat": 4,
  "nbformat_minor": 0,
  "metadata": {
    "colab": {
      "name": "Nested Lists.ipynb",
      "provenance": [],
      "authorship_tag": "ABX9TyNWgpbeRcan+PQM6DX8qTRU",
      "include_colab_link": true
    },
    "kernelspec": {
      "name": "python3",
      "display_name": "Python 3"
    },
    "language_info": {
      "name": "python"
    }
  },
  "cells": [
    {
      "cell_type": "markdown",
      "metadata": {
        "id": "view-in-github",
        "colab_type": "text"
      },
      "source": [
        "<a href=\"https://colab.research.google.com/github/tofael202/Hackerrank_Python_Problem_Solved/blob/main/Nested_Lists.ipynb\" target=\"_parent\"><img src=\"https://colab.research.google.com/assets/colab-badge.svg\" alt=\"Open In Colab\"/></a>"
      ]
    },
    {
      "cell_type": "code",
      "metadata": {
        "id": "pPUjLQC6Phxf"
      },
      "source": [
        "#https://www.hackerrank.com/challenges/nested-list/problem\n",
        "\n",
        "#I have done it in harder way"
      ],
      "execution_count": null,
      "outputs": []
    },
    {
      "cell_type": "code",
      "metadata": {
        "colab": {
          "base_uri": "https://localhost:8080/"
        },
        "id": "Q-9T0c5vPCnZ",
        "outputId": "e75a7a25-82f5-4cff-95a0-39cef784e095"
      },
      "source": [
        "if __name__ == '__main__':\n",
        "    a=[]\n",
        "    b=[]\n",
        "    minimum=111111.00\n",
        "    second_min=111111.000\n",
        "    c=[]\n",
        "    for _ in range(int(input())): #taking input give to integer then name and score\n",
        "        #for i in range(1,3):\n",
        "            name = input()\n",
        "            score = float(input())\n",
        "            for i in range(1):\n",
        "                    a.append(name)\n",
        "                    a.append(score)\n",
        "    for i in range(len(a)):\n",
        "        if(i%2==1):# taking in 1 d list and checking the second element for minimum in the score\n",
        "            if((a[i])<minimum):\n",
        "                minimum=a[i] \n",
        "    for i in range(len(a)):\n",
        "        if(i%2==1):        \n",
        "            if(a[i]<=second_min and a[i]!=minimum ):\n",
        "                second_min=a[i] \n",
        "                #print(second_min)   \n",
        "    #print(minimum)          \n",
        "    for i in range(len(a)):\n",
        "        if(a[i]==second_min):\n",
        "                second_min=a[i]\n",
        "                #print(a[i]) \n",
        "                b.append(a[i-1])\n",
        "                #b.append(a[i])\n",
        "    #print(second_min)\n",
        "    c=sorted(b)\n",
        "    print(*c, sep = \"\\n\")"
      ],
      "execution_count": 1,
      "outputs": [
        {
          "output_type": "stream",
          "text": [
            "3\n",
            "abc\n",
            "39.22\n",
            "bcd\n",
            "39.21\n",
            "xyz\n",
            "40\n",
            "abc\n"
          ],
          "name": "stdout"
        }
      ]
    },
    {
      "cell_type": "code",
      "metadata": {
        "id": "8iJjp1ewa6Kc"
      },
      "source": [
        "#this is the another version"
      ],
      "execution_count": null,
      "outputs": []
    },
    {
      "cell_type": "code",
      "metadata": {
        "colab": {
          "base_uri": "https://localhost:8080/"
        },
        "id": "6shkhOfYPgkZ",
        "outputId": "7470112f-5f8f-4006-a768-c467521fedeb"
      },
      "source": [
        "if __name__ == '__main__':\n",
        "    a=[]\n",
        "    b=[]\n",
        "   \n",
        "   \n",
        "    for _ in range(int(input())):\n",
        "        \n",
        "            name = input()\n",
        "            score = float(input())\n",
        "            a.append([name,score])\n",
        "            b.append(score)\n",
        "    c=b.index(min(b)) # returned index of minimum value\n",
        "    b.pop(c)\n",
        "    d=min(b)# again pop for the minimum value as highest minimum value is pop out from the list\n",
        "    final_result=[]\n",
        "    final_res=[]\n",
        "    for i in a:\n",
        "      if(d==i[1]):\n",
        "        final_result.append(i[0])  \n",
        "    final_res=sorted(final_result)\n",
        "    print(*final_res,sep=\"\\n\")       "
      ],
      "execution_count": 21,
      "outputs": [
        {
          "output_type": "stream",
          "text": [
            "5\n",
            "hars\n",
            "57.22\n",
            "kabita\n",
            "57.222\n",
            "jack\n",
            "57.223\n",
            "modhu\n",
            "57.2222\n",
            "avik\n",
            "57.222\n",
            "avik\n",
            "kabita\n"
          ],
          "name": "stdout"
        }
      ]
    }
  ]
}