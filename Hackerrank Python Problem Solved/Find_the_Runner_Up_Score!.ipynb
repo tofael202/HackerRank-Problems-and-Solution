{
  "nbformat": 4,
  "nbformat_minor": 0,
  "metadata": {
    "colab": {
      "name": "Find the Runner-Up Score!.ipynb",
      "provenance": [],
      "authorship_tag": "ABX9TyMS1kUG3G8QG7xzxFEHWmtF",
      "include_colab_link": true
    },
    "kernelspec": {
      "name": "python3",
      "display_name": "Python 3"
    },
    "language_info": {
      "name": "python"
    }
  },
  "cells": [
    {
      "cell_type": "markdown",
      "metadata": {
        "id": "view-in-github",
        "colab_type": "text"
      },
      "source": [
        "<a href=\"https://colab.research.google.com/github/tofael202/Hackerrank_Python_Problem_Solved/blob/main/Find_the_Runner_Up_Score!.ipynb\" target=\"_parent\"><img src=\"https://colab.research.google.com/assets/colab-badge.svg\" alt=\"Open In Colab\"/></a>"
      ]
    },
    {
      "cell_type": "code",
      "metadata": {
        "colab": {
          "base_uri": "https://localhost:8080/"
        },
        "id": "vLrFhtWG2GUg",
        "outputId": "ed1c82db-768e-4330-f047-5a902eba3654"
      },
      "source": [
        "if __name__ == '__main__':\n",
        "    n = int(input())\n",
        "    arr = list(map(int, input().split()))\n",
        "    \n",
        "    a=[]\n",
        "    a=arr\n",
        "    maximum=max(a)  # first find out the max\n",
        "    second=-111111  # have to set the value too -1111 because if any negetive value \n",
        "    #print(maximum)\n",
        "    for i in range(len(a)):\n",
        "        if(a[i]!=maximum and a[i]>second):  # then compare if the number is the not the max number and then find second number\n",
        "            second=a[i]\n",
        "    print(second)"
      ],
      "execution_count": 4,
      "outputs": [
        {
          "output_type": "stream",
          "text": [
            "4\n",
            "57 -57 57 57\n",
            "-57\n"
          ],
          "name": "stdout"
        }
      ]
    },
    {
      "cell_type": "code",
      "metadata": {
        "id": "I5tal1uS4HFo"
      },
      "source": [
        "#https://www.hackerrank.com/challenges/find-second-maximum-number-in-a-list/problem\n",
        "\n",
        "#Given the participants' score sheet for your University Sports Day, you are required to find the runner-up score. \n",
        "#You are given  scores. Store them in a list and find the score of the runner-up."
      ],
      "execution_count": null,
      "outputs": []
    }
  ]
}