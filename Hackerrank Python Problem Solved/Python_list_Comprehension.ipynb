{
  "nbformat": 4,
  "nbformat_minor": 0,
  "metadata": {
    "colab": {
      "name": "Python_list Comprehension.ipynb",
      "provenance": [],
      "authorship_tag": "ABX9TyMky2EhE0HHhmEYbRLgAVEF",
      "include_colab_link": true
    },
    "kernelspec": {
      "name": "python3",
      "display_name": "Python 3"
    },
    "language_info": {
      "name": "python"
    }
  },
  "cells": [
    {
      "cell_type": "markdown",
      "metadata": {
        "id": "view-in-github",
        "colab_type": "text"
      },
      "source": [
        "<a href=\"https://colab.research.google.com/github/tofael202/Hackerrank_Python_Problem_Solved/blob/main/Python_list_Comprehension.ipynb\" target=\"_parent\"><img src=\"https://colab.research.google.com/assets/colab-badge.svg\" alt=\"Open In Colab\"/></a>"
      ]
    },
    {
      "cell_type": "code",
      "metadata": {
        "id": "AX6cVQDPqjAc"
      },
      "source": [
        "x=[1,2,3]\n",
        "y=[4,5,6]\n",
        "c= [(x,y) for i in range(1,5) for j in range(1,5)]\n",
        "c"
      ],
      "execution_count": null,
      "outputs": []
    },
    {
      "cell_type": "code",
      "metadata": {
        "colab": {
          "base_uri": "https://localhost:8080/"
        },
        "id": "hvW--1hmxmHA",
        "outputId": "4af0076f-178d-4db7-9e05-09f1c343eb7e"
      },
      "source": [
        "x=1\n",
        "y=1\n",
        "z=1\n",
        "n=2\n",
        "i=0\n",
        "j=0\n",
        "k=0\n",
        "\n",
        "c=[[i,j,k] for i in range(x+1) for j in range(y+1) for k in range(z+1) if (i+j+k)!=n]\n",
        "c"
      ],
      "execution_count": 12,
      "outputs": [
        {
          "output_type": "execute_result",
          "data": {
            "text/plain": [
              "[[0, 0, 0], [0, 0, 1], [0, 1, 0], [1, 0, 0], [1, 1, 1]]"
            ]
          },
          "metadata": {
            "tags": []
          },
          "execution_count": 12
        }
      ]
    },
    {
      "cell_type": "code",
      "metadata": {
        "id": "0XPEwozahHLY"
      },
      "source": [
        "#https://www.hackerrank.com/challenges/list-comprehensions/problem"
      ],
      "execution_count": null,
      "outputs": []
    }
  ]
}