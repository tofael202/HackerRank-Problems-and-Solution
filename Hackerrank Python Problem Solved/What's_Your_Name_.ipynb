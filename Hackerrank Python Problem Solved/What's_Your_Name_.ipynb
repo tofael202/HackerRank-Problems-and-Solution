{
  "nbformat": 4,
  "nbformat_minor": 0,
  "metadata": {
    "colab": {
      "name": "What's Your Name?.ipynb",
      "provenance": [],
      "authorship_tag": "ABX9TyPCoP7wPMwzO+Dm1EGS/in8",
      "include_colab_link": true
    },
    "kernelspec": {
      "name": "python3",
      "display_name": "Python 3"
    },
    "language_info": {
      "name": "python"
    }
  },
  "cells": [
    {
      "cell_type": "markdown",
      "metadata": {
        "id": "view-in-github",
        "colab_type": "text"
      },
      "source": [
        "<a href=\"https://colab.research.google.com/github/tofael202/Hackerrank_Python_Problem_Solved/blob/main/What's_Your_Name%3F.ipynb\" target=\"_parent\"><img src=\"https://colab.research.google.com/assets/colab-badge.svg\" alt=\"Open In Colab\"/></a>"
      ]
    },
    {
      "cell_type": "code",
      "metadata": {
        "id": "A91sJB9S9w9b"
      },
      "source": [
        "#https://www.hackerrank.com/challenges/whats-your-name/problem"
      ],
      "execution_count": null,
      "outputs": []
    },
    {
      "cell_type": "code",
      "metadata": {
        "colab": {
          "base_uri": "https://localhost:8080/"
        },
        "id": "UNGkpotf9gZ6",
        "outputId": "09800962-ef81-423d-9346-85cd7a9947d2"
      },
      "source": [
        "#\n",
        "# Complete the 'print_full_name' function below.\n",
        "#\n",
        "# The function is expected to return a STRING.\n",
        "# The function accepts following parameters:\n",
        "#  1. STRING first\n",
        "#  2. STRING last\n",
        "#\n",
        "\n",
        "def print_full_name(first, last):\n",
        "    last +='!' #this function add a word at the end of last variable\n",
        "    # Write your code here\n",
        "    print(\"Hello\",first,last, \"You just delved into python.\")\n",
        "    \n",
        "\n",
        "if __name__ == '__main__':\n",
        "    first_name = input()\n",
        "    last_name = input()\n",
        "    print_full_name(first_name, last_name)"
      ],
      "execution_count": 2,
      "outputs": [
        {
          "output_type": "stream",
          "text": [
            "Tofael \n",
            "Ahmed\n",
            "Hello Tofael  Ahmed! You just delved into python.\n"
          ],
          "name": "stdout"
        }
      ]
    },
    {
      "cell_type": "code",
      "metadata": {
        "id": "hYt4ONAm8Zbm"
      },
      "source": [
        "#do not run this cell\n",
        "You are given the firstname and lastname of a person on two different lines. Your task is to read them and print the following:\n",
        "\n",
        "Hello firstname lastname! You just delved into python.\n",
        "\n",
        "Function Description\n",
        "\n",
        "Complete the print_full_name function in the editor below.\n",
        "\n",
        "print_full_name has the following parameters:\n",
        "\n",
        "string first: the first name\n",
        "string last: the last name\n",
        "Prints\n",
        "\n",
        "string: 'Hello  ! You just delved into python' where  and  are replaced with  and .\n",
        "Input Format\n",
        "\n",
        "The first line contains the first name, and the second line contains the last name.\n",
        "\n",
        "Constraints\n",
        "\n",
        "The length of the first and last names are each ≤ .\n",
        "\n",
        "Sample Input 0\n",
        "\n",
        "Ross\n",
        "Taylor\n",
        "Sample Output 0\n",
        "\n",
        "Hello Ross Taylor! You just delved into python.\n",
        "Explanation 0\n",
        "\n",
        "The input read by the program is stored as a string data type. A string is a collection of characters."
      ],
      "execution_count": null,
      "outputs": []
    }
  ]
}