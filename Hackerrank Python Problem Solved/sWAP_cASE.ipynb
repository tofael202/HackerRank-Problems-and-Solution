{
  "nbformat": 4,
  "nbformat_minor": 0,
  "metadata": {
    "colab": {
      "name": "sWAP cASE.ipynb",
      "provenance": [],
      "authorship_tag": "ABX9TyP0LNDG/x0CXaHA0p6LO0dE",
      "include_colab_link": true
    },
    "kernelspec": {
      "name": "python3",
      "display_name": "Python 3"
    },
    "language_info": {
      "name": "python"
    }
  },
  "cells": [
    {
      "cell_type": "markdown",
      "metadata": {
        "id": "view-in-github",
        "colab_type": "text"
      },
      "source": [
        "<a href=\"https://colab.research.google.com/github/tofael202/Hackerrank_Python_Problem_Solved/blob/main/sWAP_cASE.ipynb\" target=\"_parent\"><img src=\"https://colab.research.google.com/assets/colab-badge.svg\" alt=\"Open In Colab\"/></a>"
      ]
    },
    {
      "cell_type": "code",
      "metadata": {
        "id": "5vih4NgN7-0x"
      },
      "source": [
        "https://www.hackerrank.com/challenges/swap-case/problem\n",
        "\n",
        "You are given a string and your task is to swap cases. In other words, convert all lowercase letters to uppercase letters and vice versa.\n",
        "\n",
        "For Example:\n",
        "\n",
        "Www.HackerRank.com → wWW.hACKERrANK.COM\n",
        "Pythonist 2 → pYTHONIST 2  "
      ],
      "execution_count": null,
      "outputs": []
    },
    {
      "cell_type": "code",
      "metadata": {
        "colab": {
          "base_uri": "https://localhost:8080/"
        },
        "id": "aXqn1FzC7O7q",
        "outputId": "8f6c6a99-c795-4bbb-99ff-28cc3eeb895a"
      },
      "source": [
        "def swap_case(s):\n",
        "    x=\"\"\n",
        "    for i in s:\n",
        "        if i.islower():\n",
        "            p=i.upper()\n",
        "            #print(p)\n",
        "            x +=p\n",
        "            #print(i)  \n",
        "        else:\n",
        "            x+=i.lower()      \n",
        "    return x\n",
        "\n",
        "if __name__ == '__main__':\n",
        "    s = input()\n",
        "    result = swap_case(s)\n",
        "    print(result)\n",
        "\n"
      ],
      "execution_count": 1,
      "outputs": [
        {
          "output_type": "stream",
          "text": [
            "tofaAeL\n",
            "TOFAaEl\n"
          ],
          "name": "stdout"
        }
      ]
    }
  ]
}