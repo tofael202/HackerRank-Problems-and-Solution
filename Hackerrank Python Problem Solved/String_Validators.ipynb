{
  "nbformat": 4,
  "nbformat_minor": 0,
  "metadata": {
    "colab": {
      "name": "String Validators.ipynb",
      "provenance": [],
      "authorship_tag": "ABX9TyPAJ8wyS8Njamwi+o2zITDZ",
      "include_colab_link": true
    },
    "kernelspec": {
      "name": "python3",
      "display_name": "Python 3"
    },
    "language_info": {
      "name": "python"
    }
  },
  "cells": [
    {
      "cell_type": "markdown",
      "metadata": {
        "id": "view-in-github",
        "colab_type": "text"
      },
      "source": [
        "<a href=\"https://colab.research.google.com/github/tofael202/Hackerrank_Python_Problem_Solved/blob/main/String_Validators.ipynb\" target=\"_parent\"><img src=\"https://colab.research.google.com/assets/colab-badge.svg\" alt=\"Open In Colab\"/></a>"
      ]
    },
    {
      "cell_type": "markdown",
      "metadata": {
        "id": "scKyHigzhQEy"
      },
      "source": [
        "https://www.hackerrank.com/challenges/string-validators/problem"
      ]
    },
    {
      "cell_type": "code",
      "metadata": {
        "colab": {
          "base_uri": "https://localhost:8080/"
        },
        "id": "rrIfCx7FgzNp",
        "outputId": "49bcedb0-5950-4af4-83b1-84daec32f357"
      },
      "source": [
        "if __name__ == '__main__':\n",
        "    s = input()\n",
        "    n=0\n",
        "    a=0\n",
        "    d=0\n",
        "    l=0\n",
        "    u=0\n",
        "    for i in s:\n",
        "        if(i.isalnum()):\n",
        "            n=1\n",
        "            break\n",
        "    for i in s:\n",
        "        if(i.isalpha()):\n",
        "            a=1\n",
        "            break\n",
        "    for i in s:\n",
        "                \n",
        "        if(i.isdigit()):\n",
        "            d=1\n",
        "            break\n",
        "    for i in s:\n",
        "        if(i.islower()):\n",
        "            l=1\n",
        "            break   \n",
        "    for i in s:\n",
        "        if(i.isupper()):\n",
        "            u=1\n",
        "            break\n",
        "    if(n==1):\n",
        "        print(True)\n",
        "    else:\n",
        "        print(False)     \n",
        "    if(a==1):\n",
        "        print(True)\n",
        "    else:\n",
        "        print(False)  \n",
        "    if(d==1):\n",
        "        print(True)\n",
        "    else:\n",
        "        print(False)  \n",
        "    if(l==1):\n",
        "        print(True)\n",
        "    else:\n",
        "        print(False)  \n",
        "    if(u==1):\n",
        "        print(True)\n",
        "    else:\n",
        "        print(False)                         \n"
      ],
      "execution_count": 1,
      "outputs": [
        {
          "output_type": "stream",
          "name": "stdout",
          "text": [
            "123\n",
            "True\n",
            "False\n",
            "True\n",
            "False\n",
            "False\n"
          ]
        }
      ]
    }
  ]
}