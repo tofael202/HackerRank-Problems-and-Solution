{
  "nbformat": 4,
  "nbformat_minor": 0,
  "metadata": {
    "colab": {
      "name": "Matching {x, y} Repetitions.ipynb",
      "provenance": [],
      "authorship_tag": "ABX9TyPJfizKZPMBInL1qtLQkmIB",
      "include_colab_link": true
    },
    "kernelspec": {
      "name": "python3",
      "display_name": "Python 3"
    },
    "language_info": {
      "name": "python"
    }
  },
  "cells": [
    {
      "cell_type": "markdown",
      "metadata": {
        "id": "view-in-github",
        "colab_type": "text"
      },
      "source": [
        "<a href=\"https://colab.research.google.com/github/tofael202/Hackerrank-Problem-Solved/blob/main/Matching_%7Bx%2C_y%7D_Repetitions.ipynb\" target=\"_parent\"><img src=\"https://colab.research.google.com/assets/colab-badge.svg\" alt=\"Open In Colab\"/></a>"
      ]
    },
    {
      "cell_type": "code",
      "metadata": {
        "colab": {
          "base_uri": "https://localhost:8080/"
        },
        "id": "INd2bmDrXHw8",
        "outputId": "44741a22-1bb5-49e7-cd44-2b8ff8334507"
      },
      "source": [
        "Regex_Pattern = r'^[\\d]{1,2}[A-Za-z]{3,}[\\.]{0,3}$'\t# Do not delete 'r'.\n",
        "\n",
        "import re\n",
        "\n",
        "print(str(bool(re.search(Regex_Pattern, input()))).lower())"
      ],
      "execution_count": 12,
      "outputs": [
        {
          "output_type": "stream",
          "text": [
            "11aaaa.\n",
            "true\n"
          ],
          "name": "stdout"
        }
      ]
    },
    {
      "cell_type": "code",
      "metadata": {
        "id": "ivhEQvjBHgN8"
      },
      "source": [
        "#You have a test string .\n",
        "#Your task is to write a regex that will match  using the following conditions:\n",
        "\n",
        "#S should begin with 1 or 2 digits.\n",
        "#After that, S should have 3 or more letters (both lowercase and uppercase).\n",
        "#Then S should end with up to 3 . symbol(s). You can end with 0 to 3 . symbol(s), inclusively."
      ],
      "execution_count": null,
      "outputs": []
    }
  ]
}