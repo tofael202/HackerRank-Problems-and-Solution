{
  "nbformat": 4,
  "nbformat_minor": 0,
  "metadata": {
    "colab": {
      "name": "Matching Word Boundaries.ipynb",
      "provenance": [],
      "authorship_tag": "ABX9TyNyMALJloNsuxj37kGkMlYS",
      "include_colab_link": true
    },
    "kernelspec": {
      "name": "python3",
      "display_name": "Python 3"
    },
    "language_info": {
      "name": "python"
    }
  },
  "cells": [
    {
      "cell_type": "markdown",
      "metadata": {
        "id": "view-in-github",
        "colab_type": "text"
      },
      "source": [
        "<a href=\"https://colab.research.google.com/github/tofael202/Hackerrank-Problem-Solved/blob/main/Matching_Word_Boundaries.ipynb\" target=\"_parent\"><img src=\"https://colab.research.google.com/assets/colab-badge.svg\" alt=\"Open In Colab\"/></a>"
      ]
    },
    {
      "cell_type": "code",
      "metadata": {
        "colab": {
          "base_uri": "https://localhost:8080/"
        },
        "id": "INd2bmDrXHw8",
        "outputId": "b7ecd008-49e7-4d44-df4f-e36c9e26c5ca"
      },
      "source": [
        "Regex_Pattern = r'\\b[aeiouAEIOU][a-zA-Z]*\\b'\t# Do not delete 'r'.\n",
        "\n",
        "import re\n",
        "\n",
        "print(str(bool(re.search(Regex_Pattern, input()))).lower())"
      ],
      "execution_count": 16,
      "outputs": [
        {
          "output_type": "stream",
          "text": [
            "found match\n",
            "false\n"
          ],
          "name": "stdout"
        }
      ]
    },
    {
      "cell_type": "code",
      "metadata": {
        "id": "ivhEQvjBHgN8"
      },
      "source": [
        "#You have a test String .\n",
        "#Your task is to write a regex which will match word starting with vowel (a,e,i,o, u, A, E, I , O or U).\n",
        "#The matched word can be of any length. The matched word should consist of letters (lowercase and uppercase both) only.\n",
        "#The matched word must start and end with a word boundary."
      ],
      "execution_count": null,
      "outputs": []
    }
  ]
}