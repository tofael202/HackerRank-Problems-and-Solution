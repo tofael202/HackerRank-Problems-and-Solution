{
  "nbformat": 4,
  "nbformat_minor": 0,
  "metadata": {
    "colab": {
      "name": "Matching Whitespace & Non-Whitespace Character.ipynb",
      "provenance": [],
      "authorship_tag": "ABX9TyMtAdI+ymz3Rkx1nAzKmN1O",
      "include_colab_link": true
    },
    "kernelspec": {
      "name": "python3",
      "display_name": "Python 3"
    },
    "language_info": {
      "name": "python"
    }
  },
  "cells": [
    {
      "cell_type": "markdown",
      "metadata": {
        "id": "view-in-github",
        "colab_type": "text"
      },
      "source": [
        "<a href=\"https://colab.research.google.com/github/tofael202/Hackerrank-Problem-Solved/blob/main/Matching_Whitespace_%26_Non_Whitespace_Character.ipynb\" target=\"_parent\"><img src=\"https://colab.research.google.com/assets/colab-badge.svg\" alt=\"Open In Colab\"/></a>"
      ]
    },
    {
      "cell_type": "code",
      "metadata": {
        "colab": {
          "base_uri": "https://localhost:8080/"
        },
        "id": "INd2bmDrXHw8",
        "outputId": "2f87c359-9447-49ce-8467-158e3275c0c3"
      },
      "source": [
        "Regex_Pattern = r\"[\\S]{2}[\\s][\\S]{2}[\\s][\\S]{2}\"\t# Do not delete 'r'.\n",
        "#Explanation for matching dates in format xx xx xx\n",
        "# \\S capital S means exact non white space character  and \\s small s means white space\n",
        "import re\n",
        "\n",
        "Test_String = input()\n",
        "\n",
        "match = re.findall(Regex_Pattern, Test_String)\n",
        "\n",
        "print(\"Number of matches :\", len(match))\n",
        " "
      ],
      "execution_count": 9,
      "outputs": [
        {
          "output_type": "stream",
          "text": [
            "12-11-1111\n",
            "Number of matches : 1\n"
          ],
          "name": "stdout"
        }
      ]
    }
  ]
}