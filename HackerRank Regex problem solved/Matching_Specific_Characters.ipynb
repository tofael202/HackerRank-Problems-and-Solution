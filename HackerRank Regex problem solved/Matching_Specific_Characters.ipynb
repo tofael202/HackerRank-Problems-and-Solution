{
  "nbformat": 4,
  "nbformat_minor": 0,
  "metadata": {
    "colab": {
      "name": "Matching Specific Characters.ipynb",
      "provenance": [],
      "authorship_tag": "ABX9TyPZ9aCYYDQPqqaxGYRNTm/S",
      "include_colab_link": true
    },
    "kernelspec": {
      "name": "python3",
      "display_name": "Python 3"
    },
    "language_info": {
      "name": "python"
    }
  },
  "cells": [
    {
      "cell_type": "markdown",
      "metadata": {
        "id": "view-in-github",
        "colab_type": "text"
      },
      "source": [
        "<a href=\"https://colab.research.google.com/github/tofael202/Hackerrank-Problem-Solved/blob/main/Matching_Specific_Characters.ipynb\" target=\"_parent\"><img src=\"https://colab.research.google.com/assets/colab-badge.svg\" alt=\"Open In Colab\"/></a>"
      ]
    },
    {
      "cell_type": "code",
      "metadata": {
        "colab": {
          "base_uri": "https://localhost:8080/"
        },
        "id": "INd2bmDrXHw8",
        "outputId": "5a995560-490b-4124-d66a-58e9390e3a4b"
      },
      "source": [
        "Regex_Pattern = r'^[123][120][xs0][30Aa][xsu][\\.,]$'\t# Do not delete 'r'.\n",
        "#You have a test string .\n",
        "#Your task is to write a regex that will match  with following conditions:\n",
        "\n",
        " #String must be of length: 6\n",
        "##First character: 1, 2 or 3\n",
        "#Second character: 1, 2 or 0\n",
        "#Third character: x, s or 0\n",
        "#Fourth character: 3, 0 , A or a\n",
        "#Fifth character: x, s or u\n",
        "#Sixth character: . or ,\n",
        "import re\n",
        "\n",
        "Test_String = input()\n",
        "\n",
        "match = re.findall(Regex_Pattern, Test_String)\n",
        "\n",
        "print(\"Number of matches :\", len(match))\n",
        " "
      ],
      "execution_count": 13,
      "outputs": [
        {
          "output_type": "stream",
          "text": [
            "11a3x,\n",
            "Number of matches : 0\n"
          ],
          "name": "stdout"
        }
      ]
    }
  ]
}