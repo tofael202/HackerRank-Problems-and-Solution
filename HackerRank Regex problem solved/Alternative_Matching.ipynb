{
  "nbformat": 4,
  "nbformat_minor": 0,
  "metadata": {
    "colab": {
      "name": "Alternative Matching.ipynb",
      "provenance": [],
      "authorship_tag": "ABX9TyPwzkrjhU1Lq7jluhYOV6gs",
      "include_colab_link": true
    },
    "kernelspec": {
      "name": "python3",
      "display_name": "Python 3"
    },
    "language_info": {
      "name": "python"
    }
  },
  "cells": [
    {
      "cell_type": "markdown",
      "metadata": {
        "id": "view-in-github",
        "colab_type": "text"
      },
      "source": [
        "<a href=\"https://colab.research.google.com/github/tofael202/Hackerrank-Problem-Solved/blob/main/Alternative_Matching.ipynb\" target=\"_parent\"><img src=\"https://colab.research.google.com/assets/colab-badge.svg\" alt=\"Open In Colab\"/></a>"
      ]
    },
    {
      "cell_type": "code",
      "metadata": {
        "colab": {
          "base_uri": "https://localhost:8080/"
        },
        "id": "INd2bmDrXHw8",
        "outputId": "4c0eb939-b9a2-44b0-b3fc-07dd2cd061b9"
      },
      "source": [
        "Regex_Pattern = r'^(Mr\\.|Mrs\\.|Dr\\.|Er\\.|Ms\\.)[a-zA-Z]+$'\t# Do not delete 'r'.\n",
        "\n",
        "import re\n",
        "\n",
        "print(str(bool(re.search(Regex_Pattern, input()))).lower())"
      ],
      "execution_count": 19,
      "outputs": [
        {
          "output_type": "stream",
          "text": [
            "Mr.dosh\n",
            "true\n"
          ],
          "name": "stdout"
        }
      ]
    },
    {
      "cell_type": "code",
      "metadata": {
        "id": "ivhEQvjBHgN8"
      },
      "source": [
        "#Given a test string, , write a RegEx that matches  under the following conditions:\n",
        "\n",
        " #must start with Mr., Mrs., Ms., Dr. or Er..\n",
        "#The rest of the string must contain only one or more English alphabetic letters (upper and lowercase)."
      ],
      "execution_count": null,
      "outputs": []
    }
  ]
}