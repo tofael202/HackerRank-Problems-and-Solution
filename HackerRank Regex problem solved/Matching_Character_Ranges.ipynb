{
  "nbformat": 4,
  "nbformat_minor": 0,
  "metadata": {
    "colab": {
      "name": "Matching Character Ranges.ipynb",
      "provenance": [],
      "authorship_tag": "ABX9TyOmwOWS1ry5CC5WkQUqfhQi",
      "include_colab_link": true
    },
    "kernelspec": {
      "name": "python3",
      "display_name": "Python 3"
    },
    "language_info": {
      "name": "python"
    }
  },
  "cells": [
    {
      "cell_type": "markdown",
      "metadata": {
        "id": "view-in-github",
        "colab_type": "text"
      },
      "source": [
        "<a href=\"https://colab.research.google.com/github/tofael202/Hackerrank-Problem-Solved/blob/main/Matching_Character_Ranges.ipynb\" target=\"_parent\"><img src=\"https://colab.research.google.com/assets/colab-badge.svg\" alt=\"Open In Colab\"/></a>"
      ]
    },
    {
      "cell_type": "code",
      "metadata": {
        "colab": {
          "base_uri": "https://localhost:8080/"
        },
        "id": "INd2bmDrXHw8",
        "outputId": "3e51218d-86b3-498c-b6ca-786c33552ac1"
      },
      "source": [
        "Regex_Pattern = r'^[a-z][1-9][^a-z][^A-Z][A-Z]'\t# Do not delete 'r'.\n",
        "\n",
        "import re\n",
        "print(str(bool(re.search(Regex_Pattern, input()))).lower())"
      ],
      "execution_count": 10,
      "outputs": [
        {
          "output_type": "stream",
          "text": [
            "Hck\n",
            "false\n"
          ],
          "name": "stdout"
        }
      ]
    },
    {
      "cell_type": "code",
      "metadata": {
        "id": "ivhEQvjBHgN8"
      },
      "source": [
        "#The test string's length is greater than or equal to 5.\n",
        "#The first character must be a lowercase English letter.\n",
        "##The second character is a positive digit, cannot be zero.\n",
        "#The third character must not be a lowercase English letter.\n",
        "#The fourth character must not be an uppercase English letter.\n",
        "#The fifth character must be an uppercase English letter."
      ],
      "execution_count": null,
      "outputs": []
    }
  ]
}