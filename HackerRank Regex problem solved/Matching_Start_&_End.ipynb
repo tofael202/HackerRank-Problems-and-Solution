{
  "nbformat": 4,
  "nbformat_minor": 0,
  "metadata": {
    "colab": {
      "name": "Matching Start & End.ipynb",
      "provenance": [],
      "authorship_tag": "ABX9TyMTXxwJzvH1MyML/Zd7JyjU",
      "include_colab_link": true
    },
    "kernelspec": {
      "name": "python3",
      "display_name": "Python 3"
    },
    "language_info": {
      "name": "python"
    }
  },
  "cells": [
    {
      "cell_type": "markdown",
      "metadata": {
        "id": "view-in-github",
        "colab_type": "text"
      },
      "source": [
        "<a href=\"https://colab.research.google.com/github/tofael202/Hackerrank-Problem-Solved/blob/main/Matching_Start_%26_End.ipynb\" target=\"_parent\"><img src=\"https://colab.research.google.com/assets/colab-badge.svg\" alt=\"Open In Colab\"/></a>"
      ]
    },
    {
      "cell_type": "code",
      "metadata": {
        "colab": {
          "base_uri": "https://localhost:8080/"
        },
        "id": "INd2bmDrXHw8",
        "outputId": "9d698d1b-bcb6-41cf-b98b-03288c405e50"
      },
      "source": [
        "Regex_Pattern = r\"^[0-9][\\w]{4}[\\.]$\"\t# Do not delete 'r'.\n",
        "#Explanation for matching dates in format Xxxxx.\n",
        "# X means diagit can be start \n",
        "#\\W matches any non-word character.\n",
        "import re\n",
        "\n",
        "Test_String = input()\n",
        "\n",
        "match = re.findall(Regex_Pattern, Test_String)\n",
        "\n",
        "print(\"Number of matches :\", len(match))\n",
        " "
      ],
      "execution_count": 12,
      "outputs": [
        {
          "output_type": "stream",
          "text": [
            "1avcd.\n",
            "Number of matches : 1\n"
          ],
          "name": "stdout"
        }
      ]
    }
  ]
}