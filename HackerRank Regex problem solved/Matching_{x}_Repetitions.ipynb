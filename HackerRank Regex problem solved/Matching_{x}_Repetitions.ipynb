{
  "nbformat": 4,
  "nbformat_minor": 0,
  "metadata": {
    "colab": {
      "name": "Matching {x} Repetitions.ipynb",
      "provenance": [],
      "authorship_tag": "ABX9TyNfEHYeCFogMlbZpQ+dud+3",
      "include_colab_link": true
    },
    "kernelspec": {
      "name": "python3",
      "display_name": "Python 3"
    },
    "language_info": {
      "name": "python"
    }
  },
  "cells": [
    {
      "cell_type": "markdown",
      "metadata": {
        "id": "view-in-github",
        "colab_type": "text"
      },
      "source": [
        "<a href=\"https://colab.research.google.com/github/tofael202/Hackerrank-Problem-Solved/blob/main/Matching_%7Bx%7D_Repetitions.ipynb\" target=\"_parent\"><img src=\"https://colab.research.google.com/assets/colab-badge.svg\" alt=\"Open In Colab\"/></a>"
      ]
    },
    {
      "cell_type": "code",
      "metadata": {
        "colab": {
          "base_uri": "https://localhost:8080/"
        },
        "id": "INd2bmDrXHw8",
        "outputId": "4ecd8327-4618-4d29-ecd3-bf7a3a7828a2"
      },
      "source": [
        "Regex_Pattern = r'^[A-Za-z24680]{40}[13579\\s\\t\\r\\n]{5}$'\t# Do not delete 'r'.\n",
        "\n",
        "import re\n",
        "\n",
        "print(str(bool(re.search(Regex_Pattern, input()))).lower())"
      ],
      "execution_count": 11,
      "outputs": [
        {
          "output_type": "stream",
          "text": [
            "azzsssa0111111111111111 010101\n",
            "false\n"
          ],
          "name": "stdout"
        }
      ]
    },
    {
      "cell_type": "code",
      "metadata": {
        "id": "ivhEQvjBHgN8"
      },
      "source": [
        "#Task\n",
        "\n",
        "#You have a test string .\n",
        "#Your task is to write a regex that will match  using the following conditions:\n",
        "\n",
        " #must be of length equal to 45.\n",
        "#The first  characters should consist of letters(both lowercase and uppercase), or of even digits.\n",
        "#The last  characters should consist of odd digits or whitespace characters."
      ],
      "execution_count": null,
      "outputs": []
    }
  ]
}