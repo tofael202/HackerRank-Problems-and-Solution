{
  "nbformat": 4,
  "nbformat_minor": 0,
  "metadata": {
    "colab": {
      "name": "Saying_Hi.ipynb",
      "provenance": [],
      "authorship_tag": "ABX9TyNg7pOwum3hk0aW6pFyV6H5",
      "include_colab_link": true
    },
    "kernelspec": {
      "name": "python3",
      "display_name": "Python 3"
    },
    "language_info": {
      "name": "python"
    }
  },
  "cells": [
    {
      "cell_type": "markdown",
      "metadata": {
        "id": "view-in-github",
        "colab_type": "text"
      },
      "source": [
        "<a href=\"https://colab.research.google.com/github/tofael202/Hackerrank-Problem-Solved/blob/main/Saying_Hi.ipynb\" target=\"_parent\"><img src=\"https://colab.research.google.com/assets/colab-badge.svg\" alt=\"Open In Colab\"/></a>"
      ]
    },
    {
      "cell_type": "code",
      "metadata": {
        "colab": {
          "base_uri": "https://localhost:8080/"
        },
        "id": "SuU4ExNKGfXD",
        "outputId": "a562e66b-cbe6-424f-c9ee-05a6ac59da7c"
      },
      "source": [
        "Regex_Pattern = r\"^[Hh][iI][\\s][^Dd]\"    # Do not delete 'r'.\n",
        "\n",
        "import re\n",
        "\n",
        "a=[]\n",
        "n=int(input())\n",
        "for i in range(n):\n",
        "  a.append(input())\n",
        "for i in range(n):\n",
        "  b = re.search(Regex_Pattern, a[i],flags=1)\n",
        "  \n",
        "  \n",
        "  if b:\n",
        "    print (a[i])\n",
        "\n",
        "#print( match)"
      ],
      "execution_count": 5,
      "outputs": [
        {
          "output_type": "stream",
          "text": [
            "4\n",
            "Hi alex how are you\n",
            "Hi dave you fine\n",
            "hialex\n",
            "alex is not fine\n",
            "Hi alex how are you\n"
          ],
          "name": "stdout"
        }
      ]
    }
  ]
}