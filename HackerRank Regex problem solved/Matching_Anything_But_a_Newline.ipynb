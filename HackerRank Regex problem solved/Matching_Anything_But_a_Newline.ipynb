{
  "nbformat": 4,
  "nbformat_minor": 0,
  "metadata": {
    "colab": {
      "name": "Matching Anything But a Newline.ipynb",
      "provenance": [],
      "authorship_tag": "ABX9TyPBetmQLBqwn5L0q1JZqCyd",
      "include_colab_link": true
    },
    "kernelspec": {
      "name": "python3",
      "display_name": "Python 3"
    },
    "language_info": {
      "name": "python"
    }
  },
  "cells": [
    {
      "cell_type": "markdown",
      "metadata": {
        "id": "view-in-github",
        "colab_type": "text"
      },
      "source": [
        "<a href=\"https://colab.research.google.com/github/tofael202/Hackerrank-Problem-Solved/blob/main/Matching_Anything_But_a_Newline.ipynb\" target=\"_parent\"><img src=\"https://colab.research.google.com/assets/colab-badge.svg\" alt=\"Open In Colab\"/></a>"
      ]
    },
    {
      "cell_type": "code",
      "metadata": {
        "colab": {
          "base_uri": "https://localhost:8080/"
        },
        "id": "INd2bmDrXHw8",
        "outputId": "e3d7830d-db6f-4f8d-9e6f-c7b4c0617cbb"
      },
      "source": [
        "Regex_Pattern = r'^...\\....\\....\\....$'\t# Do not delete 'r'. Here will match exaxt in the form\n",
        "#explanation abc.def.xyz.def this is the format '.' is used for matching any charercter and $ for end this pattern\n",
        "#Regex_Pattern = r'^[\\d\\D\\w\\W]{3}\\.[\\d\\D\\w\\W]{3}\\.[\\d\\D\\w\\W]{3}\\.[\\d\\D\\w\\W]{3}$'\n",
        "#Regex_Pattern = r'^.{3}\\..{3}\\..{3}\\..{3}$'\n",
        "\n",
        "\n",
        "import re\n",
        "\n",
        "Test_String = input()\n",
        "\n",
        "match = re.findall(Regex_Pattern, Test_String)\n",
        "\n",
        "print(\"Number of matches :\", len(match))\n",
        " "
      ],
      "execution_count": 6,
      "outputs": [
        {
          "output_type": "stream",
          "text": [
            "abc.def.111.111\n",
            "Number of matches : 1\n"
          ],
          "name": "stdout"
        }
      ]
    }
  ]
}