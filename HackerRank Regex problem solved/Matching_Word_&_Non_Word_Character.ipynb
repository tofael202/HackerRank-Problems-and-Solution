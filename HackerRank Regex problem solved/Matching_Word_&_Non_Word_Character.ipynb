{
  "nbformat": 4,
  "nbformat_minor": 0,
  "metadata": {
    "colab": {
      "name": "Matching Word & Non-Word Character.ipynb",
      "provenance": [],
      "authorship_tag": "ABX9TyPDSNfORs/8ar17Hsuu0Efw",
      "include_colab_link": true
    },
    "kernelspec": {
      "name": "python3",
      "display_name": "Python 3"
    },
    "language_info": {
      "name": "python"
    }
  },
  "cells": [
    {
      "cell_type": "markdown",
      "metadata": {
        "id": "view-in-github",
        "colab_type": "text"
      },
      "source": [
        "<a href=\"https://colab.research.google.com/github/tofael202/Hackerrank-Problem-Solved/blob/main/Matching_Word_%26_Non_Word_Character.ipynb\" target=\"_parent\"><img src=\"https://colab.research.google.com/assets/colab-badge.svg\" alt=\"Open In Colab\"/></a>"
      ]
    },
    {
      "cell_type": "code",
      "metadata": {
        "colab": {
          "base_uri": "https://localhost:8080/"
        },
        "id": "INd2bmDrXHw8",
        "outputId": "fb017577-1f17-4f11-89da-1e8228fe88ed"
      },
      "source": [
        "Regex_Pattern = r\"[\\w]{3}[\\W][\\w]{10}[\\W][\\w]{3}\"\t# Do not delete 'r'.\n",
        "#Explanation for matching dates in format xx xx xx\n",
        "# \\w word\n",
        "#\\W matches any non-word character.\n",
        "import re\n",
        "\n",
        "Test_String = input()\n",
        "\n",
        "match = re.findall(Regex_Pattern, Test_String)\n",
        "\n",
        "print(\"Number of matches :\", len(match))\n",
        " "
      ],
      "execution_count": 11,
      "outputs": [
        {
          "output_type": "stream",
          "text": [
            "www.hackerrank.com\n",
            "Number of matches : 1\n"
          ],
          "name": "stdout"
        }
      ]
    }
  ]
}