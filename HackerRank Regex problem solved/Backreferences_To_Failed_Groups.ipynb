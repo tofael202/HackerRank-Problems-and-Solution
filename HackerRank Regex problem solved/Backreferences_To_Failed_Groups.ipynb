{
  "nbformat": 4,
  "nbformat_minor": 0,
  "metadata": {
    "colab": {
      "name": "Backreferences To Failed Groups.ipynb",
      "provenance": [],
      "authorship_tag": "ABX9TyMf0rfWcCyNsZS427qqFwJm",
      "include_colab_link": true
    },
    "kernelspec": {
      "name": "python3",
      "display_name": "Python 3"
    },
    "language_info": {
      "name": "python"
    }
  },
  "cells": [
    {
      "cell_type": "markdown",
      "metadata": {
        "id": "view-in-github",
        "colab_type": "text"
      },
      "source": [
        "<a href=\"https://colab.research.google.com/github/tofael202/Hackerrank-Problem-Solved/blob/main/Backreferences_To_Failed_Groups.ipynb\" target=\"_parent\"><img src=\"https://colab.research.google.com/assets/colab-badge.svg\" alt=\"Open In Colab\"/></a>"
      ]
    },
    {
      "cell_type": "code",
      "metadata": {
        "colab": {
          "base_uri": "https://localhost:8080/"
        },
        "id": "INd2bmDrXHw8",
        "outputId": "ad109cb5-bca9-4441-eeec-2d8147bb227b"
      },
      "source": [
        "Regex_Pattern = r\"^(([0-9]{2})([-])){3}([0-9]{2})$|^(([0-9]{2})){4}$\"\t# Do not delete 'r'.\n",
        "\n",
        "import re\n",
        "\n",
        "print(str(bool(re.search(Regex_Pattern, input()))).lower())"
      ],
      "execution_count": 21,
      "outputs": [
        {
          "output_type": "stream",
          "text": [
            "11-22-33-44\n",
            "true\n"
          ],
          "name": "stdout"
        }
      ]
    },
    {
      "cell_type": "code",
      "metadata": {
        "id": "ivhEQvjBHgN8"
      },
      "source": [
        "You have a test string .\n",
        "Your task is to write a regex which will match , with following condition(s):\n",
        "\n",
        " S consists of 8 digits.\n",
        " may have \"-\" separator such that string  gets divided in  parts, with each part having exactly two digits. (Eg. 12-34-56-78)\n",
        "Valid \n",
        "\n",
        "12345678\n",
        "12-34-56-87\n",
        "\n",
        "Invalid \n",
        "\n",
        "1-234-56-78\n",
        "12-45-7810"
      ],
      "execution_count": null,
      "outputs": []
    }
  ]
}