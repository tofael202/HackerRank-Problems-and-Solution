{
  "nbformat": 4,
  "nbformat_minor": 0,
  "metadata": {
    "colab": {
      "name": "Matching Same Text Again & Again.ipynb",
      "provenance": [],
      "authorship_tag": "ABX9TyPYjy5T5NQtwNtHEkHz8AyK",
      "include_colab_link": true
    },
    "kernelspec": {
      "name": "python3",
      "display_name": "Python 3"
    },
    "language_info": {
      "name": "python"
    }
  },
  "cells": [
    {
      "cell_type": "markdown",
      "metadata": {
        "id": "view-in-github",
        "colab_type": "text"
      },
      "source": [
        "<a href=\"https://colab.research.google.com/github/tofael202/Hackerrank-Problem-Solved/blob/main/Matching_Same_Text_Again_%26_Again.ipynb\" target=\"_parent\"><img src=\"https://colab.research.google.com/assets/colab-badge.svg\" alt=\"Open In Colab\"/></a>"
      ]
    },
    {
      "cell_type": "code",
      "metadata": {
        "colab": {
          "base_uri": "https://localhost:8080/"
        },
        "id": "INd2bmDrXHw8",
        "outputId": "c6087ec3-1bb3-41ce-aae0-680a93d14132"
      },
      "source": [
        "Regex_Pattern = r'^([a-z])([\\w])([\\s])([\\W])([\\d])([^\\d])([A-Z])([a-zA-Z])([aeiouAEIOU])([\\S])()\\1()\\2()\\3()\\4()\\5()\\6()\\7()\\8()\\9()\\10$'\n",
        "import re\n",
        "\n",
        "print(str(bool(re.search(Regex_Pattern, input()))).lower())"
      ],
      "execution_count": 20,
      "outputs": [
        {
          "output_type": "stream",
          "text": [
            "ab #1?AZa$ab #1?AZa$\n",
            "true\n"
          ],
          "name": "stdout"
        }
      ]
    },
    {
      "cell_type": "code",
      "metadata": {
        "id": "ivhEQvjBHgN8"
      },
      "source": [
        "You have a test string .\n",
        "Your task is to write a regex that will match  with the following conditions:\n",
        "\n",
        " must be of length: 20\n",
        " character: lowercase letter.\n",
        " character: word character.\n",
        " character: whitespace character.\n",
        " character: non word character.\n",
        " character: digit.\n",
        " character: non digit.\n",
        " character: uppercase letter.\n",
        " character: letter (either lowercase or uppercase).\n",
        " character: vowel (a, e, i , o , u, A, E, I, O or U).\n",
        " character: non whitespace character.\n",
        " character: should be same as 1st character.\n",
        " character: should be same as 2nd character.\n",
        " character: should be same as 3rd character.\n",
        " character: should be same as 4th character.\n",
        " character: should be same as 5th character.\n",
        " character: should be same as 6th character.\n",
        " character: should be same as 7th character.\n",
        " character: should be same as 8th character.\n",
        " character: should be same as 9th character.\n",
        " character: should be same as 10th character."
      ],
      "execution_count": null,
      "outputs": []
    }
  ]
}