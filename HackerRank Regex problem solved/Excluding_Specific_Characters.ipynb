{
  "nbformat": 4,
  "nbformat_minor": 0,
  "metadata": {
    "colab": {
      "name": "Excluding Specific Characters.ipynb",
      "provenance": [],
      "authorship_tag": "ABX9TyMR78PpZIAvRHLy7CqFQWUV",
      "include_colab_link": true
    },
    "kernelspec": {
      "name": "python3",
      "display_name": "Python 3"
    },
    "language_info": {
      "name": "python"
    }
  },
  "cells": [
    {
      "cell_type": "markdown",
      "metadata": {
        "id": "view-in-github",
        "colab_type": "text"
      },
      "source": [
        "<a href=\"https://colab.research.google.com/github/tofael202/Hackerrank-Problem-Solved/blob/main/Excluding_Specific_Characters.ipynb\" target=\"_parent\"><img src=\"https://colab.research.google.com/assets/colab-badge.svg\" alt=\"Open In Colab\"/></a>"
      ]
    },
    {
      "cell_type": "code",
      "metadata": {
        "colab": {
          "base_uri": "https://localhost:8080/"
        },
        "id": "INd2bmDrXHw8",
        "outputId": "a6fb8c10-62dc-441f-d19b-4f1fc9c38c02"
      },
      "source": [
        "Regex_Pattern = r'^[^0-9][^aeiou][^bcDF][^\\r\\n\\t\\f\\s][^AEIOU][^\\.,]$'\t# Do not delete 'r'.\n",
        "\n",
        "\n",
        "#Task\n",
        "#You have a test string .\n",
        "#Your task is to write a regex that will match  with the following conditions:\n",
        "\n",
        "# S must be of length 6.\n",
        "# First character should not be a digit (  1,2,3,4,5,6,7,8,9 or 0  ).\n",
        "#Second character should not be a lowercase vowel (  or  ).\n",
        "##Third character should not be b, c, D or F.\n",
        "#Fourth character should not be a whitespace character ( \\r, \\n, \\t, \\f or <space> ).\n",
        "#Fifth character should not be a uppercase vowel (  or  ).\n",
        "#Sixth character should not be a . or , symbol.\n",
        "#Note\n",
        "\n",
        "#This is a regex only challenge. You are not required to write any code.\n",
        "#You have to fill the regex pattern in the blank (_________).\n",
        "\n",
        "import re\n",
        "\n",
        "print(str(bool(re.search(Regex_Pattern, input()))).lower())"
      ],
      "execution_count": 4,
      "outputs": [
        {
          "output_type": "stream",
          "text": [
            "think.\n",
            "false\n"
          ],
          "name": "stdout"
        }
      ]
    }
  ]
}