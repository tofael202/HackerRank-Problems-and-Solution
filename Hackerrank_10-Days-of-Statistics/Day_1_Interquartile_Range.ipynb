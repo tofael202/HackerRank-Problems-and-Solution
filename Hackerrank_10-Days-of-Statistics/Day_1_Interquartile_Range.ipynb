{
  "nbformat": 4,
  "nbformat_minor": 0,
  "metadata": {
    "colab": {
      "name": "Day 1: Interquartile Range.ipynb",
      "provenance": [],
      "authorship_tag": "ABX9TyNLslKfCU6TI+cn4MzQaw64",
      "include_colab_link": true
    },
    "kernelspec": {
      "name": "python3",
      "display_name": "Python 3"
    },
    "language_info": {
      "name": "python"
    }
  },
  "cells": [
    {
      "cell_type": "markdown",
      "metadata": {
        "id": "view-in-github",
        "colab_type": "text"
      },
      "source": [
        "<a href=\"https://colab.research.google.com/github/tofael202/Hackerrank_10-Days-of-Statistics/blob/main/Day_1_Interquartile_Range.ipynb\" target=\"_parent\"><img src=\"https://colab.research.google.com/assets/colab-badge.svg\" alt=\"Open In Colab\"/></a>"
      ]
    },
    {
      "cell_type": "code",
      "metadata": {
        "id": "lodyHpg4vWE9"
      },
      "source": [
        "##https://www.hackerrank.com/challenges/s10-interquartile-range/problem"
      ],
      "execution_count": null,
      "outputs": []
    },
    {
      "cell_type": "code",
      "metadata": {
        "id": "DelQgFSpvif8"
      },
      "source": [
        "#!/bin/python3\n",
        "\n",
        "import math\n",
        "import os\n",
        "import random\n",
        "import re\n",
        "import sys\n",
        "\n",
        "#\n",
        "# Complete the 'interQuartile' function below.\n",
        "#\n",
        "# The function accepts following parameters:\n",
        "#  1. INTEGER_ARRAY values\n",
        "#  2. INTEGER_ARRAY freqs\n",
        "#\n",
        "\n",
        "def interQuartile(values, freqs):\n",
        "    # Print your answer to 1 decimal place within this function\n",
        "    x=[]\n",
        "    for j in range(len(val)):\n",
        "        for i in range(freq[j]):# for taking value to the frequency \n",
        "            x.append(val[j])\n",
        "    #print(x)        \n",
        "    y=sorted(x)\n",
        "    #print(y)\n",
        "    len_arr=len(y)\n",
        "    #print(len_arr)\n",
        "    if(len_arr %2==1):\n",
        "        z=len_arr//2\n",
        "        x1=[]\n",
        "        x2=[]\n",
        "        x1=y[:z]\n",
        "        x2=y[z+1:]# as middle value are not counted when even number\n",
        "        p=len(x1)\n",
        "        y=len(x2)\n",
        "        #print(x1)\n",
        "        #print(x2)\n",
        "        q1=(x1[(len(x1)-1)//2]+x1[len(x1)//2])/2   #median find\n",
        "\n",
        "        q3=(x2[(len(x2)-1)//2]+x2[len(x2)//2])/2\n",
        "        re=q3-q1\n",
        "        re='%.1f'%re\n",
        "        print(re)\n",
        "        \n",
        "    else :\n",
        "        z=len_arr//2\n",
        "        x1=[]\n",
        "        x2=[]\n",
        "        x1=y[:z]\n",
        "        x2=y[z:]\n",
        "        p=len(x1)\n",
        "        y=len(x2)\n",
        "        #print(x1)\n",
        "        #print(x2)\n",
        "        q1=(x1[(len(x1)-1)//2]+x1[len(x1)//2])/2\n",
        "\n",
        "        q3=(x2[(len(x2)-1)//2]+x2[len(x2)//2])/2\n",
        "        re=q3-q1\n",
        "        re='%.1f'%re\n",
        "        print(re)\n",
        "if __name__ == '__main__':\n",
        "    n = int(input().strip())\n",
        "\n",
        "    val = list(map(int, input().rstrip().split()))\n",
        "\n",
        "    freq = list(map(int, input().rstrip().split()))\n",
        "\n",
        "    interQuartile(val, freq)\n"
      ],
      "execution_count": null,
      "outputs": []
    }
  ]
}