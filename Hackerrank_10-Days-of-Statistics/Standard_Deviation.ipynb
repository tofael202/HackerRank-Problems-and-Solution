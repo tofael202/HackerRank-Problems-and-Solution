{
  "nbformat": 4,
  "nbformat_minor": 0,
  "metadata": {
    "colab": {
      "name": "Standard Deviation.ipynb",
      "provenance": [],
      "authorship_tag": "ABX9TyOp52NKlthdMPIplByZoJ4U",
      "include_colab_link": true
    },
    "kernelspec": {
      "name": "python3",
      "display_name": "Python 3"
    },
    "language_info": {
      "name": "python"
    }
  },
  "cells": [
    {
      "cell_type": "markdown",
      "metadata": {
        "id": "view-in-github",
        "colab_type": "text"
      },
      "source": [
        "<a href=\"https://colab.research.google.com/github/tofael202/Hackerrank_10-Days-of-Statistics/blob/main/Standard_Deviation.ipynb\" target=\"_parent\"><img src=\"https://colab.research.google.com/assets/colab-badge.svg\" alt=\"Open In Colab\"/></a>"
      ]
    },
    {
      "cell_type": "code",
      "metadata": {
        "id": "jtaCfzUIyQ4N"
      },
      "source": [
        "#!/bin/python3\n",
        "\n",
        "import math\n",
        "import os\n",
        "import random\n",
        "import re\n",
        "import sys\n",
        "\n",
        "#\n",
        "# Complete the 'stdDev' function below.\n",
        "#\n",
        "# The function accepts INTEGER_ARRAY arr as parameter.\n",
        "#\n",
        "\n",
        "def stdDev(arr):\n",
        "    # Print your answers to 1 decimal place within this function\n",
        "    avg=sum(arr)//len(arr)\n",
        "    #print(avg)\n",
        "    x=[]\n",
        "    x=[(i-avg)**2 for i in arr]\n",
        "    #print(x)\n",
        "    res=sum(x)/len(x)\n",
        "    res=(res)**.5\n",
        "    res='%.1f'%res\n",
        "    print(res)\n",
        "\n",
        "if __name__ == '__main__':\n",
        "    n = int(input().strip())\n",
        "\n",
        "    vals = list(map(int, input().rstrip().split()))\n",
        "\n",
        "    stdDev(vals)"
      ],
      "execution_count": null,
      "outputs": []
    },
    {
      "cell_type": "code",
      "metadata": {
        "id": "njVq3XVZybwt"
      },
      "source": [
        "#https://www.hackerrank.com/challenges/s10-standard-deviation/problem"
      ],
      "execution_count": null,
      "outputs": []
    }
  ]
}