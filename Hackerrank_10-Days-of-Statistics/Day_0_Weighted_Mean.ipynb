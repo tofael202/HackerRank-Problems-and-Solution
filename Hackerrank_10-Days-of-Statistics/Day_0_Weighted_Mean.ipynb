{
  "nbformat": 4,
  "nbformat_minor": 0,
  "metadata": {
    "colab": {
      "name": "Day 0: Weighted Mean.ipynb",
      "provenance": [],
      "authorship_tag": "ABX9TyM7mRniA0y/oaRH6YcAC8eZ",
      "include_colab_link": true
    },
    "kernelspec": {
      "name": "python3",
      "display_name": "Python 3"
    },
    "language_info": {
      "name": "python"
    }
  },
  "cells": [
    {
      "cell_type": "markdown",
      "metadata": {
        "id": "view-in-github",
        "colab_type": "text"
      },
      "source": [
        "<a href=\"https://colab.research.google.com/github/tofael202/Hackerrank_10-Days-of-Statistics/blob/main/Day_0_Weighted_Mean.ipynb\" target=\"_parent\"><img src=\"https://colab.research.google.com/assets/colab-badge.svg\" alt=\"Open In Colab\"/></a>"
      ]
    },
    {
      "cell_type": "code",
      "metadata": {
        "id": "noQNGUf0HqkN"
      },
      "source": [
        "#!/bin/python3\n",
        "\n",
        "import math\n",
        "import os\n",
        "import random\n",
        "import re\n",
        "import sys\n",
        "\n",
        "#\n",
        "# Complete the 'weightedMean' function below.\n",
        "#\n",
        "# The function accepts following parameters:\n",
        "#  1. INTEGER_ARRAY X\n",
        "#  2. INTEGER_ARRAY W\n",
        "#\n",
        "\n",
        "def weightedMean(X, W):\n",
        "    # Write your code here\n",
        "    c=[]\n",
        "    d=[]\n",
        "    for i in range(len(X)):\n",
        "        b=X[i]*W[i]\n",
        "        d.append(b)\n",
        "    weight_mean=sum(d)/sum(W)\n",
        "    weight_mean='%.1f' % weight_mean\n",
        "    print(weight_mean)    \n",
        "\n",
        "if __name__ == '__main__':\n",
        "    n = int(input().strip())\n",
        "\n",
        "    vals = list(map(int, input().rstrip().split()))\n",
        "\n",
        "    weights = list(map(int, input().rstrip().split()))\n",
        "\n",
        "    weightedMean(vals, weights)"
      ],
      "execution_count": null,
      "outputs": []
    }
  ]
}