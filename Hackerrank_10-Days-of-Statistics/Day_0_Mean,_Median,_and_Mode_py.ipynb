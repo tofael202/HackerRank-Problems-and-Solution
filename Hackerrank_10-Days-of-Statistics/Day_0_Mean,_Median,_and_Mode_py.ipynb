{
  "nbformat": 4,
  "nbformat_minor": 0,
  "metadata": {
    "colab": {
      "name": "Day 0: Mean, Median, and Mode.py",
      "provenance": [],
      "authorship_tag": "ABX9TyOkd72w13LnVaKNrRZYSLbP",
      "include_colab_link": true
    },
    "kernelspec": {
      "name": "python3",
      "display_name": "Python 3"
    },
    "language_info": {
      "name": "python"
    }
  },
  "cells": [
    {
      "cell_type": "markdown",
      "metadata": {
        "id": "view-in-github",
        "colab_type": "text"
      },
      "source": [
        "<a href=\"https://colab.research.google.com/github/tofael202/Hackerrank_10-Days-of-Statistics/blob/main/Day_0_Mean%2C_Median%2C_and_Mode_py.ipynb\" target=\"_parent\"><img src=\"https://colab.research.google.com/assets/colab-badge.svg\" alt=\"Open In Colab\"/></a>"
      ]
    },
    {
      "cell_type": "code",
      "metadata": {
        "id": "9M25jdZcx5Mp"
      },
      "source": [
        "# Enter your code here. Read input from STDIN. Print output to STDOUT\n",
        "import sys\n",
        "from collections import Counter\n",
        "input_len=sys.stdin.readline().rstrip()\n",
        "n=int(input_len)\n",
        "#print(n)\n",
        "x=[]\n",
        "b=[]\n",
        "b=sys.stdin.readline().rstrip().split(' ')\n",
        "x=[int(i) for i in b ]\n",
        "total_sum=sum(x)\n",
        "mean=total_sum/len(x)\n",
        "mean='%.1f' % mean # take one decimal point\n",
        "print(mean)\n",
        "#print(type(b))\n",
        "b=sorted(x)\n",
        "n=len(x)\n",
        "median=(b[n//2-1]+b[n//2])/2\n",
        "median='%.1f' % median\n",
        "print(median)\n",
        "occurance=Counter(b)\n",
        "counter=1\n",
        "#print(occurance)\n",
        "for i in b:\n",
        "    cur_count = b.count(i)\n",
        "    if(cur_count> counter):\n",
        "            counter = cur_count\n",
        "            num = i\n",
        "            #print(num)\n",
        "#print(cur_count)\n",
        "if(counter>1):\n",
        "    #mini=min(b)\n",
        "    print(num)\n",
        "else :\n",
        "    mini=min(b)\n",
        "    print(mini)   \n"
      ],
      "execution_count": null,
      "outputs": []
    }
  ]
}