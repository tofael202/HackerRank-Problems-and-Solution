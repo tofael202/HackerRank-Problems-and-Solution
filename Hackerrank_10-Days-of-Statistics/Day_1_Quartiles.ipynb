{
  "nbformat": 4,
  "nbformat_minor": 0,
  "metadata": {
    "colab": {
      "name": "Day 1: Quartiles.ipynb",
      "provenance": [],
      "authorship_tag": "ABX9TyNhwsmcWdDSHFPgDfRO/qT8",
      "include_colab_link": true
    },
    "kernelspec": {
      "name": "python3",
      "display_name": "Python 3"
    },
    "language_info": {
      "name": "python"
    }
  },
  "cells": [
    {
      "cell_type": "markdown",
      "metadata": {
        "id": "view-in-github",
        "colab_type": "text"
      },
      "source": [
        "<a href=\"https://colab.research.google.com/github/tofael202/Hackerrank_10-Days-of-Statistics/blob/main/Day_1_Quartiles.ipynb\" target=\"_parent\"><img src=\"https://colab.research.google.com/assets/colab-badge.svg\" alt=\"Open In Colab\"/></a>"
      ]
    },
    {
      "cell_type": "code",
      "metadata": {
        "id": "xdQrQnCvval6"
      },
      "source": [
        "#!/bin/python3\n",
        "\n",
        "import math\n",
        "import os\n",
        "import random\n",
        "import re\n",
        "import sys\n",
        "\n",
        "#\n",
        "# Complete the 'quartiles' function below.\n",
        "#\n",
        "# The function is expected to return an INTEGER_ARRAY.\n",
        "# The function accepts INTEGER_ARRAY arr as parameter.\n",
        "#\n",
        "\n",
        "def quartiles(arr):\n",
        "    # Write your code here\n",
        "    len_arr=len(arr)\n",
        "    arr=sorted(arr)\n",
        "    res=[]\n",
        "    print(arr)\n",
        "    if(len_arr %2==1):\n",
        "        i1=(len_arr+1)//4\n",
        "        print(i1)\n",
        "        #print(arr[i1-1])\n",
        "        q1=(arr[i1]+arr[i1-1])//2\n",
        "        #print(q1)\n",
        "        res.append(q1)\n",
        "        i2=(len_arr)//2\n",
        "        q2=arr[i2]\n",
        "        #print(q2)\n",
        "        res.append(q2)\n",
        "        i3=0\n",
        "        i3=3*((len_arr+1)//4)\n",
        "        q3=(arr[i3]+arr[i3+1])//2\n",
        "        #print(q3)\n",
        "        res.append(q3)\n",
        "    else :\n",
        "        x=len_arr//2\n",
        "        x1=[]\n",
        "        x2=[]\n",
        "        x1=arr[:x]\n",
        "        x2=arr[x:]\n",
        "        p=len(x1)\n",
        "        y=len(x2)\n",
        "        #print(x1)\n",
        "        #print(x2)\n",
        "        q1=(x1[(len(x1)-1)//2]+x1[len(x1)//2])//2\n",
        "        res.append(q1)\n",
        "        q2=(x1[p-1]+x2[0])//2\n",
        "        res.append(q2)\n",
        "        q3=(x2[(len(x2)-1)//2]+x2[len(x2)//2])//2\n",
        "        res.append(q3)\n",
        "            \n",
        "    return res\n",
        "        \n",
        "    \n",
        "            \n",
        "if __name__ == '__main__':\n",
        "    fptr = open(os.environ['OUTPUT_PATH'], 'w')\n",
        "\n",
        "    n = int(input().strip())\n",
        "\n",
        "    data = list(map(int, input().rstrip().split()))\n",
        "\n",
        "    res = quartiles(data)\n",
        "\n",
        "    fptr.write('\\n'.join(map(str, res)))\n",
        "    fptr.write('\\n')\n",
        "\n",
        "    fptr.close()"
      ],
      "execution_count": null,
      "outputs": []
    },
    {
      "cell_type": "code",
      "metadata": {
        "id": "uSlleD9ivviF"
      },
      "source": [
        "#https://www.hackerrank.com/challenges/s10-quartiles/problem"
      ],
      "execution_count": null,
      "outputs": []
    }
  ]
}